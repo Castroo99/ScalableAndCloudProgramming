{
 "cells": [
  {
   "cell_type": "code",
   "execution_count": 1,
   "metadata": {},
   "outputs": [],
   "source": [
    "import pandas as pd"
   ]
  },
  {
   "cell_type": "code",
   "execution_count": 2,
   "metadata": {},
   "outputs": [],
   "source": [
    "df = pd.read_csv(\"dataset/user_reviews/user_reviews.csv\")\n",
    "\n",
    "df = df.drop([\"isVerified\", \"isSuperReviewer\", \"hasSpoilers\", \"hasProfanity\", \"userRealm\"], axis=1)\n",
    "\n",
    "df.to_csv(\"dataset/processed/user_reviews.csv\", index=False)"
   ]
  },
  {
   "cell_type": "code",
   "execution_count": null,
   "metadata": {},
   "outputs": [],
   "source": [
    "# Test the cleaning process, tried to remove the rows with creationDate before 2000 to make the dataset smaller\n",
    "df = pd.read_csv(\"dataset/user_reviews/user_reviews.csv\", parse_dates=['creationDate'])\n",
    "\n",
    "df = df.drop([\"isVerified\", \"isSuperReviewer\", \"hasSpoilers\", \"hasProfanity\", \"userRealm\"], axis=1)\n",
    "\n",
    "df['creationDate'] = pd.to_datetime(df['creationDate'], errors='coerce')\n",
    "\n",
    "df = df[df['creationDate'].dt.year >= 2000]\n",
    "\n",
    "# Save the cleaned dataset if needed\n",
    "df.to_csv(\"dataset/processed/user_reviews.csv\", index=False)"
   ]
  }
 ],
 "metadata": {
  "kernelspec": {
   "display_name": ".venv",
   "language": "python",
   "name": "python3"
  },
  "language_info": {
   "codemirror_mode": {
    "name": "ipython",
    "version": 3
   },
   "file_extension": ".py",
   "mimetype": "text/x-python",
   "name": "python",
   "nbconvert_exporter": "python",
   "pygments_lexer": "ipython3",
   "version": "3.10.6"
  }
 },
 "nbformat": 4,
 "nbformat_minor": 2
}
