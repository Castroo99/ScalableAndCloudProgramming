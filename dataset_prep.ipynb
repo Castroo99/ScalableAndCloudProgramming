{
 "cells": [
  {
   "cell_type": "code",
   "execution_count": 1,
   "metadata": {},
   "outputs": [],
   "source": [
    "import pandas as pd"
   ]
  },
  {
   "cell_type": "code",
   "execution_count": null,
   "metadata": {},
   "outputs": [],
   "source": [
    "df = pd.read_csv(\"src/archive/user_reviews.csv\")\n",
    "\n",
    "df = df.drop([\"isVerified\", \"isSuperReviewer\", \"hasSpoilers\", \"hasProfanity\", \"userRealm\"], axis=1)\n",
    "df = df.groupby(\"userId\").head(5)\n",
    "\n",
    "df.to_csv(\"src/processed/user_reviews.csv\", index=False)"
   ]
  }
 ],
 "metadata": {
  "kernelspec": {
   "display_name": "Python 3",
   "language": "python",
   "name": "python3"
  },
  "language_info": {
   "codemirror_mode": {
    "name": "ipython",
    "version": 3
   },
   "file_extension": ".py",
   "mimetype": "text/x-python",
   "name": "python",
   "nbconvert_exporter": "python",
   "pygments_lexer": "ipython3",
   "version": "3.11.5"
  }
 },
 "nbformat": 4,
 "nbformat_minor": 2
}
